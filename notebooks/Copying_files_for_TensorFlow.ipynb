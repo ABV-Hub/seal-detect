{
 "cells": [
  {
   "cell_type": "markdown",
   "metadata": {},
   "source": [
    "# Copying files for TensorFlow\n",
    "\n",
    "The TensorFlow workflow of Sam requires the images to be in directories corresponding to their classes. So let's copy the files into those directories based on their class. \n",
    "\n",
    "We should probably have done this in the notebook with the DataFrame and GDAL workflow, but now that we have the images, it'll be faster to just use `shutil`.\n",
    "\n",
    "\n",
    "## 1104 image"
   ]
  },
  {
   "cell_type": "code",
   "execution_count": 9,
   "metadata": {},
   "outputs": [],
   "source": [
    "with open('/home/matt/Downloads/seals/StitchMICE_ORKlh16_3_1104_CP_FINAL_classes.txt') as f:\n",
    "    classes = f.readlines()"
   ]
  },
  {
   "cell_type": "code",
   "execution_count": 12,
   "metadata": {},
   "outputs": [],
   "source": [
    "import glob\n",
    "import os\n",
    "import shutil\n",
    "\n",
    "for fname in glob.glob('/home/matt/Downloads/seals/StitchMICE_ORKlh16_3_1104_CP_FINAL_tiles/pos/*.tif'):\n",
    "    basename = os.path.basename(fname)\n",
    "    idx, _ = basename.split('.')\n",
    "    cls = classes[int(idx)].strip()\n",
    "    dst = os.path.join('/home/matt/Downloads/seals/classes', cls, basename)\n",
    "    shutil.copyfile(fname, dst)\n"
   ]
  },
  {
   "cell_type": "markdown",
   "metadata": {},
   "source": [
    "## 1117 image"
   ]
  },
  {
   "cell_type": "code",
   "execution_count": 14,
   "metadata": {},
   "outputs": [],
   "source": [
    "with open('/home/matt/Downloads/seals/StitchMICE_ORKlh16_4_1117_CP_FINAL_classes.txt') as f:\n",
    "    classes = f.readlines()"
   ]
  },
  {
   "cell_type": "code",
   "execution_count": 18,
   "metadata": {},
   "outputs": [],
   "source": [
    "import glob\n",
    "import os\n",
    "import shutil\n",
    "\n",
    "offset = 3041\n",
    "\n",
    "for fname in glob.glob('/home/matt/Downloads/seals/StitchMICE_ORKlh16_4_1117_CP_FINAL_tiles/pos/*.tif'):\n",
    "    basename = os.path.basename(fname)\n",
    "    idx, _ = basename.split('.')\n",
    "    cls = classes[int(idx) - offset].strip()\n",
    "    dst = os.path.join('/home/matt/Downloads/seals/StitchMICE_ORKlh16_4_1117_CP_FINAL_classes', cls, basename)\n",
    "    shutil.copyfile(fname, dst)"
   ]
  },
  {
   "cell_type": "code",
   "execution_count": null,
   "metadata": {},
   "outputs": [],
   "source": []
  }
 ],
 "metadata": {
  "kernelspec": {
   "display_name": "py36",
   "language": "python",
   "name": "py36"
  },
  "language_info": {
   "codemirror_mode": {
    "name": "ipython",
    "version": 3
   },
   "file_extension": ".py",
   "mimetype": "text/x-python",
   "name": "python",
   "nbconvert_exporter": "python",
   "pygments_lexer": "ipython3",
   "version": "3.6.4"
  }
 },
 "nbformat": 4,
 "nbformat_minor": 2
}
