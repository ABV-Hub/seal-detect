{
 "cells": [
  {
   "cell_type": "markdown",
   "metadata": {},
   "source": [
    "## Feature augmentation\n",
    "\n",
    "We could make some more features.\n",
    "\n",
    "Also, saving as JPG reduces the file size by about 90%.\n",
    "\n",
    "- Rotate and reflect tiles.\n",
    "- Compute luminance.\n",
    "- Save as NumPy arrays?\n",
    "- Reduce size??"
   ]
  },
  {
   "cell_type": "code",
   "execution_count": 12,
   "metadata": {},
   "outputs": [],
   "source": [
    "from PIL import Image, ImageFilter\n",
    "from glob import glob\n",
    "import os"
   ]
  },
  {
   "cell_type": "markdown",
   "metadata": {},
   "source": [
    "Make a function for computing luminance:\n",
    "\n",
    "$$Y = 0.2126 R + 0.7152 G + 0.0722 B$$"
   ]
  },
  {
   "cell_type": "code",
   "execution_count": 13,
   "metadata": {},
   "outputs": [],
   "source": [
    "def luminance(r, g, b):\n",
    "    return 0.2126*r + 0.7152*g + 0.0722*b"
   ]
  },
  {
   "cell_type": "code",
   "execution_count": null,
   "metadata": {},
   "outputs": [],
   "source": [
    "for fname in glob('/home/matt/Downloads/seals/StitchMICE_ORKlh16_3_1104_CP_FINAL_tiles/pos'):\n",
    "    img = Image.open(fname)\n",
    "    path, file = os.path.split(fname)\n",
    "    base, ext = file.split('.')\n",
    "    \n",
    "    # Save JPG.\n",
    "    img.save(os.path.join(path, f'{base}.jpg'))\n",
    "    \n",
    "    # Save flipped.\n",
    "    img = img.transpose(Image.FLIP_LEFT_RIGHT)\n",
    "    img.save(os.path.join(path, f'{base}f.jpg'))\n",
    "    \n",
    "    # Save edges.\n",
    "    edg = image.filter(ImageFilter.FIND_EDGES)\n",
    "    edg.save(os.path.join(path, f'{base}e.jpg'))"
   ]
  },
  {
   "cell_type": "code",
   "execution_count": null,
   "metadata": {},
   "outputs": [],
   "source": []
  }
 ],
 "metadata": {
  "kernelspec": {
   "display_name": "py36",
   "language": "python",
   "name": "py36"
  },
  "language_info": {
   "codemirror_mode": {
    "name": "ipython",
    "version": 3
   },
   "file_extension": ".py",
   "mimetype": "text/x-python",
   "name": "python",
   "nbconvert_exporter": "python",
   "pygments_lexer": "ipython3",
   "version": "3.6.4"
  }
 },
 "nbformat": 4,
 "nbformat_minor": 2
}
