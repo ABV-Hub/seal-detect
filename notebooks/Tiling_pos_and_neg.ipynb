{
 "cells": [
  {
   "cell_type": "markdown",
   "metadata": {},
   "source": [
    "# Tiling seals (not ceiling tiles)\n",
    "\n",
    "Given a massive TIFF, extract tiles around some specific (x, y) locations. These are seals.\n",
    "\n",
    "Also extract some tiles that are not close to those (x, y) locations, and are also not too white (mask zone). These are not seals."
   ]
  },
  {
   "cell_type": "code",
   "execution_count": 41,
   "metadata": {},
   "outputs": [],
   "source": [
    "import os\n",
    "import struct\n",
    "\n",
    "import numpy as np\n",
    "import pandas as pd\n",
    "import scipy.spatial\n",
    "\n",
    "%matplotlib inline\n",
    "import matplotlib.pyplot as plt"
   ]
  },
  {
   "cell_type": "markdown",
   "metadata": {},
   "source": [
    "Install gdal with `conda install -c conda-forge gdal`"
   ]
  },
  {
   "cell_type": "code",
   "execution_count": 42,
   "metadata": {},
   "outputs": [],
   "source": [
    "import gdal"
   ]
  },
  {
   "cell_type": "markdown",
   "metadata": {},
   "source": [
    "## Dataframe\n",
    "\n",
    "We'll just read one image for now."
   ]
  },
  {
   "cell_type": "code",
   "execution_count": 60,
   "metadata": {},
   "outputs": [],
   "source": [
    "xls = '/home/matt/Downloads/seals/LingaHolm_SampleFiles_20180906/Linga Holm_ORKlh_2016_3&4_20180906.xlsx'\n",
    "df = pd.read_excel(xls, sheet_name=1)"
   ]
  },
  {
   "cell_type": "code",
   "execution_count": 61,
   "metadata": {},
   "outputs": [
    {
     "data": {
      "text/plain": [
       "array(['StitchMICE_ORKlh16_3_1104_CP_FINAL.tif',\n",
       "       'StitchMICE_ORKlh16_4_1117_CP_FINAL.tif'], dtype=object)"
      ]
     },
     "execution_count": 61,
     "metadata": {},
     "output_type": "execute_result"
    }
   ],
   "source": [
    "df.image_file.unique()"
   ]
  },
  {
   "cell_type": "code",
   "execution_count": 62,
   "metadata": {},
   "outputs": [],
   "source": [
    "input_fname = df.image_file.unique()[1]\n",
    "df = df[df.image_file == fname]"
   ]
  },
  {
   "cell_type": "code",
   "execution_count": 63,
   "metadata": {},
   "outputs": [
    {
     "data": {
      "text/html": [
       "<div>\n",
       "<style scoped>\n",
       "    .dataframe tbody tr th:only-of-type {\n",
       "        vertical-align: middle;\n",
       "    }\n",
       "\n",
       "    .dataframe tbody tr th {\n",
       "        vertical-align: top;\n",
       "    }\n",
       "\n",
       "    .dataframe thead th {\n",
       "        text-align: right;\n",
       "    }\n",
       "</style>\n",
       "<table border=\"1\" class=\"dataframe\">\n",
       "  <thead>\n",
       "    <tr style=\"text-align: right;\">\n",
       "      <th></th>\n",
       "      <th>image_file</th>\n",
       "      <th>class</th>\n",
       "      <th>x</th>\n",
       "      <th>y</th>\n",
       "      <th>date_counted</th>\n",
       "    </tr>\n",
       "  </thead>\n",
       "  <tbody>\n",
       "    <tr>\n",
       "      <th>3041</th>\n",
       "      <td>StitchMICE_ORKlh16_4_1117_CP_FINAL.tif</td>\n",
       "      <td>whitecoat</td>\n",
       "      <td>35994.974282</td>\n",
       "      <td>58410.725029</td>\n",
       "      <td>2018-05-28</td>\n",
       "    </tr>\n",
       "    <tr>\n",
       "      <th>3042</th>\n",
       "      <td>StitchMICE_ORKlh16_4_1117_CP_FINAL.tif</td>\n",
       "      <td>whitecoat</td>\n",
       "      <td>36698.974282</td>\n",
       "      <td>58376.725029</td>\n",
       "      <td>2018-05-28</td>\n",
       "    </tr>\n",
       "    <tr>\n",
       "      <th>3043</th>\n",
       "      <td>StitchMICE_ORKlh16_4_1117_CP_FINAL.tif</td>\n",
       "      <td>whitecoat</td>\n",
       "      <td>36676.974282</td>\n",
       "      <td>58398.725029</td>\n",
       "      <td>2018-05-28</td>\n",
       "    </tr>\n",
       "    <tr>\n",
       "      <th>3044</th>\n",
       "      <td>StitchMICE_ORKlh16_4_1117_CP_FINAL.tif</td>\n",
       "      <td>whitecoat</td>\n",
       "      <td>37321.374282</td>\n",
       "      <td>57937.725029</td>\n",
       "      <td>2018-05-28</td>\n",
       "    </tr>\n",
       "    <tr>\n",
       "      <th>3045</th>\n",
       "      <td>StitchMICE_ORKlh16_4_1117_CP_FINAL.tif</td>\n",
       "      <td>whitecoat</td>\n",
       "      <td>38404.574282</td>\n",
       "      <td>57051.325029</td>\n",
       "      <td>2018-05-28</td>\n",
       "    </tr>\n",
       "  </tbody>\n",
       "</table>\n",
       "</div>"
      ],
      "text/plain": [
       "                                  image_file      class             x  \\\n",
       "3041  StitchMICE_ORKlh16_4_1117_CP_FINAL.tif  whitecoat  35994.974282   \n",
       "3042  StitchMICE_ORKlh16_4_1117_CP_FINAL.tif  whitecoat  36698.974282   \n",
       "3043  StitchMICE_ORKlh16_4_1117_CP_FINAL.tif  whitecoat  36676.974282   \n",
       "3044  StitchMICE_ORKlh16_4_1117_CP_FINAL.tif  whitecoat  37321.374282   \n",
       "3045  StitchMICE_ORKlh16_4_1117_CP_FINAL.tif  whitecoat  38404.574282   \n",
       "\n",
       "                 y date_counted  \n",
       "3041  58410.725029   2018-05-28  \n",
       "3042  58376.725029   2018-05-28  \n",
       "3043  58398.725029   2018-05-28  \n",
       "3044  57937.725029   2018-05-28  \n",
       "3045  57051.325029   2018-05-28  "
      ]
     },
     "execution_count": 63,
     "metadata": {},
     "output_type": "execute_result"
    }
   ],
   "source": [
    "df.head()"
   ]
  },
  {
   "cell_type": "code",
   "execution_count": 64,
   "metadata": {},
   "outputs": [
    {
     "data": {
      "text/plain": [
       "array(['whitecoat', 'moulted', 'dead', 'double'], dtype=object)"
      ]
     },
     "execution_count": 64,
     "metadata": {},
     "output_type": "execute_result"
    }
   ],
   "source": [
    "df['class'].unique()"
   ]
  },
  {
   "cell_type": "code",
   "execution_count": 65,
   "metadata": {},
   "outputs": [
    {
     "data": {
      "text/html": [
       "<div>\n",
       "<style scoped>\n",
       "    .dataframe tbody tr th:only-of-type {\n",
       "        vertical-align: middle;\n",
       "    }\n",
       "\n",
       "    .dataframe tbody tr th {\n",
       "        vertical-align: top;\n",
       "    }\n",
       "\n",
       "    .dataframe thead th {\n",
       "        text-align: right;\n",
       "    }\n",
       "</style>\n",
       "<table border=\"1\" class=\"dataframe\">\n",
       "  <thead>\n",
       "    <tr style=\"text-align: right;\">\n",
       "      <th></th>\n",
       "      <th>x</th>\n",
       "      <th>y</th>\n",
       "    </tr>\n",
       "  </thead>\n",
       "  <tbody>\n",
       "    <tr>\n",
       "      <th>count</th>\n",
       "      <td>3127.000000</td>\n",
       "      <td>3127.000000</td>\n",
       "    </tr>\n",
       "    <tr>\n",
       "      <th>mean</th>\n",
       "      <td>27056.283269</td>\n",
       "      <td>25308.597334</td>\n",
       "    </tr>\n",
       "    <tr>\n",
       "      <th>std</th>\n",
       "      <td>11586.787093</td>\n",
       "      <td>13363.805393</td>\n",
       "    </tr>\n",
       "    <tr>\n",
       "      <th>min</th>\n",
       "      <td>1026.174282</td>\n",
       "      <td>468.225029</td>\n",
       "    </tr>\n",
       "    <tr>\n",
       "      <th>25%</th>\n",
       "      <td>18870.174282</td>\n",
       "      <td>15574.625029</td>\n",
       "    </tr>\n",
       "    <tr>\n",
       "      <th>50%</th>\n",
       "      <td>29902.374282</td>\n",
       "      <td>24776.625029</td>\n",
       "    </tr>\n",
       "    <tr>\n",
       "      <th>75%</th>\n",
       "      <td>36478.174282</td>\n",
       "      <td>32634.525029</td>\n",
       "    </tr>\n",
       "    <tr>\n",
       "      <th>max</th>\n",
       "      <td>44740.374282</td>\n",
       "      <td>58526.725029</td>\n",
       "    </tr>\n",
       "  </tbody>\n",
       "</table>\n",
       "</div>"
      ],
      "text/plain": [
       "                  x             y\n",
       "count   3127.000000   3127.000000\n",
       "mean   27056.283269  25308.597334\n",
       "std    11586.787093  13363.805393\n",
       "min     1026.174282    468.225029\n",
       "25%    18870.174282  15574.625029\n",
       "50%    29902.374282  24776.625029\n",
       "75%    36478.174282  32634.525029\n",
       "max    44740.374282  58526.725029"
      ]
     },
     "execution_count": 65,
     "metadata": {},
     "output_type": "execute_result"
    }
   ],
   "source": [
    "df.describe()"
   ]
  },
  {
   "cell_type": "markdown",
   "metadata": {},
   "source": [
    "## Make +ve image tiles\n",
    "\n",
    "We can't read these images (easily anyway) into a PIL image or NumPy array. So we'll use GDAL to make the subiages, because it can work out of core (i.e. without reading the image into memory)."
   ]
  },
  {
   "cell_type": "code",
   "execution_count": 66,
   "metadata": {},
   "outputs": [],
   "source": [
    "input_dir = '/home/matt/Downloads/seals/LingaHolm_SampleFiles_20180906'\n",
    "\n",
    "output_dir = '/home/matt/Downloads/seals/out_pos'"
   ]
  },
  {
   "cell_type": "code",
   "execution_count": 67,
   "metadata": {},
   "outputs": [],
   "source": [
    "fname = os.path.join(input_dir, input_fname)"
   ]
  },
  {
   "cell_type": "code",
   "execution_count": 68,
   "metadata": {},
   "outputs": [],
   "source": [
    "ds = gdal.Open(fname)\n",
    "band = ds.GetRasterBand(1)\n",
    "x_size = band.XSize\n",
    "y_size = band.YSize"
   ]
  },
  {
   "cell_type": "code",
   "execution_count": 69,
   "metadata": {},
   "outputs": [],
   "source": [
    "# Use globals for now. A bit lazy...\n",
    "X_TILE_SIZE = 80\n",
    "Y_TILE_SIZE = 80"
   ]
  },
  {
   "cell_type": "markdown",
   "metadata": {},
   "source": [
    "Define a function that, when applied to all the rows in a DataFrame, will use the x and y values to extract subimages. Note that the function returns None, and has the side-effect of running a GDAL command on the input file. "
   ]
  },
  {
   "cell_type": "code",
   "execution_count": 70,
   "metadata": {},
   "outputs": [],
   "source": [
    "def make_tile(x, y, fname, output_dir, output_stem):\n",
    "    \"\"\"\n",
    "    To be used by df.apply(). Uses globals (should probably curry instead.)\n",
    "    \"\"\"\n",
    "    # Transform to image coordinates.\n",
    "    x, y = x - X_TILE_SIZE/2, y_size - y - Y_TILE_SIZE/2\n",
    "    \n",
    "    # Form output file name.\n",
    "    outfile = os.path.join(output_dir, f'{output_stem}.tif')\n",
    "    \n",
    "    # Do operation and save file.\n",
    "    com_string = f\"gdal_translate -of GTIFF -srcwin {x}, {y}, {X_TILE_SIZE}, {Y_TILE_SIZE} {fname} {outfile}\"\n",
    "    os.system(com_string)\n",
    "    \n",
    "    # No need to return anything but we can send back filename.\n",
    "    return outfile"
   ]
  },
  {
   "cell_type": "code",
   "execution_count": 71,
   "metadata": {},
   "outputs": [],
   "source": [
    "def mapper(row):\n",
    "    return make_tile(row.x, row.y, fname, output_dir, row.name)"
   ]
  },
  {
   "cell_type": "markdown",
   "metadata": {},
   "source": [
    "Uncomment the next cell to perform the tiling. Note: this part takes a few minutes and creates about 6000 files."
   ]
  },
  {
   "cell_type": "code",
   "execution_count": 72,
   "metadata": {},
   "outputs": [
    {
     "data": {
      "text/plain": [
       "3041    /home/matt/Downloads/seals/out_pos/3041.tif\n",
       "3042    /home/matt/Downloads/seals/out_pos/3042.tif\n",
       "3043    /home/matt/Downloads/seals/out_pos/3043.tif\n",
       "3044    /home/matt/Downloads/seals/out_pos/3044.tif\n",
       "3045    /home/matt/Downloads/seals/out_pos/3045.tif\n",
       "3046    /home/matt/Downloads/seals/out_pos/3046.tif\n",
       "3047    /home/matt/Downloads/seals/out_pos/3047.tif\n",
       "3048    /home/matt/Downloads/seals/out_pos/3048.tif\n",
       "3049    /home/matt/Downloads/seals/out_pos/3049.tif\n",
       "3050    /home/matt/Downloads/seals/out_pos/3050.tif\n",
       "3051    /home/matt/Downloads/seals/out_pos/3051.tif\n",
       "3052    /home/matt/Downloads/seals/out_pos/3052.tif\n",
       "3053    /home/matt/Downloads/seals/out_pos/3053.tif\n",
       "3054    /home/matt/Downloads/seals/out_pos/3054.tif\n",
       "3055    /home/matt/Downloads/seals/out_pos/3055.tif\n",
       "3056    /home/matt/Downloads/seals/out_pos/3056.tif\n",
       "3057    /home/matt/Downloads/seals/out_pos/3057.tif\n",
       "3058    /home/matt/Downloads/seals/out_pos/3058.tif\n",
       "3059    /home/matt/Downloads/seals/out_pos/3059.tif\n",
       "3060    /home/matt/Downloads/seals/out_pos/3060.tif\n",
       "3061    /home/matt/Downloads/seals/out_pos/3061.tif\n",
       "3062    /home/matt/Downloads/seals/out_pos/3062.tif\n",
       "3063    /home/matt/Downloads/seals/out_pos/3063.tif\n",
       "3064    /home/matt/Downloads/seals/out_pos/3064.tif\n",
       "3065    /home/matt/Downloads/seals/out_pos/3065.tif\n",
       "3066    /home/matt/Downloads/seals/out_pos/3066.tif\n",
       "3067    /home/matt/Downloads/seals/out_pos/3067.tif\n",
       "3068    /home/matt/Downloads/seals/out_pos/3068.tif\n",
       "3069    /home/matt/Downloads/seals/out_pos/3069.tif\n",
       "3070    /home/matt/Downloads/seals/out_pos/3070.tif\n",
       "                           ...                     \n",
       "6138    /home/matt/Downloads/seals/out_pos/6138.tif\n",
       "6139    /home/matt/Downloads/seals/out_pos/6139.tif\n",
       "6140    /home/matt/Downloads/seals/out_pos/6140.tif\n",
       "6141    /home/matt/Downloads/seals/out_pos/6141.tif\n",
       "6142    /home/matt/Downloads/seals/out_pos/6142.tif\n",
       "6143    /home/matt/Downloads/seals/out_pos/6143.tif\n",
       "6144    /home/matt/Downloads/seals/out_pos/6144.tif\n",
       "6145    /home/matt/Downloads/seals/out_pos/6145.tif\n",
       "6146    /home/matt/Downloads/seals/out_pos/6146.tif\n",
       "6147    /home/matt/Downloads/seals/out_pos/6147.tif\n",
       "6148    /home/matt/Downloads/seals/out_pos/6148.tif\n",
       "6149    /home/matt/Downloads/seals/out_pos/6149.tif\n",
       "6150    /home/matt/Downloads/seals/out_pos/6150.tif\n",
       "6151    /home/matt/Downloads/seals/out_pos/6151.tif\n",
       "6152    /home/matt/Downloads/seals/out_pos/6152.tif\n",
       "6153    /home/matt/Downloads/seals/out_pos/6153.tif\n",
       "6154    /home/matt/Downloads/seals/out_pos/6154.tif\n",
       "6155    /home/matt/Downloads/seals/out_pos/6155.tif\n",
       "6156    /home/matt/Downloads/seals/out_pos/6156.tif\n",
       "6157    /home/matt/Downloads/seals/out_pos/6157.tif\n",
       "6158    /home/matt/Downloads/seals/out_pos/6158.tif\n",
       "6159    /home/matt/Downloads/seals/out_pos/6159.tif\n",
       "6160    /home/matt/Downloads/seals/out_pos/6160.tif\n",
       "6161    /home/matt/Downloads/seals/out_pos/6161.tif\n",
       "6162    /home/matt/Downloads/seals/out_pos/6162.tif\n",
       "6163    /home/matt/Downloads/seals/out_pos/6163.tif\n",
       "6164    /home/matt/Downloads/seals/out_pos/6164.tif\n",
       "6165    /home/matt/Downloads/seals/out_pos/6165.tif\n",
       "6166    /home/matt/Downloads/seals/out_pos/6166.tif\n",
       "6167    /home/matt/Downloads/seals/out_pos/6167.tif\n",
       "Length: 3127, dtype: object"
      ]
     },
     "execution_count": 72,
     "metadata": {},
     "output_type": "execute_result"
    }
   ],
   "source": [
    "df.apply(mapper, axis=1)"
   ]
  },
  {
   "cell_type": "markdown",
   "metadata": {},
   "source": [
    "### TODO\n",
    "\n",
    "- Make the images into JPEGs.\n",
    "- Make the images monochrome (?).\n",
    "- Rotate and/or flip the images.\n",
    "- Compute some new attributes of the images."
   ]
  },
  {
   "cell_type": "markdown",
   "metadata": {},
   "source": [
    "## Make -ve (non-seal) tiles\n",
    "\n",
    "Strategy: \n",
    "\n",
    "1. Select a point a random.\n",
    "1. If the point is too close to a known seal, reject it.\n",
    "1. If the point contains too many white pixels, reject it.\n",
    "1. Continue until we have as many points as we want (e.g. 8000).\n",
    "\n",
    "We'll work on the `band` object directly this time, because we need to inspect the pixels of each selected point."
   ]
  },
  {
   "cell_type": "markdown",
   "metadata": {},
   "source": [
    "Let's try extracting a single tile:"
   ]
  },
  {
   "cell_type": "code",
   "execution_count": 73,
   "metadata": {},
   "outputs": [],
   "source": [
    "scan = band.ReadRaster(35000, 35040, 80, 80, buf_type=gdal.GDT_Float32)\n",
    "data = struct.unpack('f' * 80*80, scan)"
   ]
  },
  {
   "cell_type": "code",
   "execution_count": 74,
   "metadata": {},
   "outputs": [],
   "source": [
    "data = np.array(data).reshape(80, 80)"
   ]
  },
  {
   "cell_type": "code",
   "execution_count": 75,
   "metadata": {},
   "outputs": [
    {
     "data": {
      "text/plain": [
       "<matplotlib.image.AxesImage at 0x7f6f6fd14630>"
      ]
     },
     "execution_count": 75,
     "metadata": {},
     "output_type": "execute_result"
    },
    {
     "data": {
      "image/png": "[encoded data removed]",
      "text/plain": [
       "<Figure size 432x288 with 1 Axes>"
      ]
     },
     "metadata": {},
     "output_type": "display_data"
    }
   ],
   "source": [
    "plt.imshow(data)"
   ]
  },
  {
   "cell_type": "code",
   "execution_count": 76,
   "metadata": {},
   "outputs": [
    {
     "data": {
      "text/plain": [
       "103.0"
      ]
     },
     "execution_count": 76,
     "metadata": {},
     "output_type": "execute_result"
    }
   ],
   "source": [
    "np.max(data)"
   ]
  },
  {
   "cell_type": "markdown",
   "metadata": {},
   "source": [
    "Compare with some of the mask:"
   ]
  },
  {
   "cell_type": "code",
   "execution_count": 77,
   "metadata": {},
   "outputs": [
    {
     "data": {
      "text/plain": [
       "<matplotlib.colorbar.Colorbar at 0x7f6f6ed7f320>"
      ]
     },
     "execution_count": 77,
     "metadata": {},
     "output_type": "execute_result"
    },
    {
     "data": {
      "image/png": "[encoded data removed]",
      "text/plain": [
       "<Figure size 432x288 with 2 Axes>"
      ]
     },
     "metadata": {},
     "output_type": "display_data"
    }
   ],
   "source": [
    "scan = band.ReadRaster(2000, 2000, 80, 80, buf_type=gdal.GDT_Float32)\n",
    "data = struct.unpack('f' * 80*80, scan)\n",
    "data = np.array(data).reshape(80, 80)\n",
    "im = plt.imshow(data)\n",
    "plt.colorbar(im)"
   ]
  },
  {
   "cell_type": "code",
   "execution_count": 78,
   "metadata": {},
   "outputs": [
    {
     "data": {
      "text/plain": [
       "array([[255., 255., 255., ..., 255., 255., 255.],\n",
       "       [255., 255., 255., ..., 255., 255., 255.],\n",
       "       [255., 255., 255., ..., 255., 255., 255.],\n",
       "       ...,\n",
       "       [255., 255., 255., ..., 255., 255., 255.],\n",
       "       [255., 255., 255., ..., 255., 255., 255.],\n",
       "       [255., 255., 255., ..., 255., 255., 255.]])"
      ]
     },
     "execution_count": 78,
     "metadata": {},
     "output_type": "execute_result"
    }
   ],
   "source": [
    "data"
   ]
  },
  {
   "cell_type": "code",
   "execution_count": 79,
   "metadata": {},
   "outputs": [
    {
     "data": {
      "text/plain": [
       "1.0"
      ]
     },
     "execution_count": 79,
     "metadata": {},
     "output_type": "execute_result"
    }
   ],
   "source": [
    "data[data > 250].size / data.size"
   ]
  },
  {
   "cell_type": "markdown",
   "metadata": {},
   "source": [
    "We'll implement the alogirithm described above: pick random points, check that they aren't too close to known seals, check don't have too many white pixels, then store them if they seem OK."
   ]
  },
  {
   "cell_type": "code",
   "execution_count": 83,
   "metadata": {},
   "outputs": [],
   "source": [
    "# Make the k-d tree.\n",
    "tree = scipy.spatial.KDTree(np.array([df.x, df.y]).T)\n",
    "\n",
    "negs = []\n",
    "while len(negs) < 7000:\n",
    "\n",
    "    # Make random coordinates.\n",
    "    x, y = np.random.randint(0, x_size), np.random.randint(0, y_size)\n",
    "    x_, y_ = x - X_TILE_SIZE/2, y_size - y - Y_TILE_SIZE/2\n",
    "    \n",
    "    # Find distance to nearest, reject if too close.\n",
    "    dist, _ =  tree.query([x, y])\n",
    "    if dist < np.sqrt(2*80**2):\n",
    "        continue\n",
    "    \n",
    "    # Read the data for this tile.\n",
    "    scan = band.ReadRaster(x_, y_, X_TILE_SIZE, Y_TILE_SIZE, buf_type=gdal.GDT_Float32)\n",
    "    try:\n",
    "        # Sometimes this fails, not sure why. Maybe at the edges?\n",
    "        data = struct.unpack('f' * X_TILE_SIZE * Y_TILE_SIZE, scan)\n",
    "    except:\n",
    "        continue\n",
    "\n",
    "    # Make an array of the data. These are 8-bit ints. (Why?)\n",
    "    a = np.array(data).reshape(X_TILE_SIZE, Y_TILE_SIZE)\n",
    "    \n",
    "    # If more than 5% of image is ~white, reject.\n",
    "    if a[a > 250].size / a.size > 0.05:\n",
    "        continue\n",
    "    \n",
    "    # If the tile survived, add it.\n",
    "    negs.append((x, y))"
   ]
  },
  {
   "cell_type": "markdown",
   "metadata": {},
   "source": [
    "Instead of doing this next thing, we could just save the array `a`, above, as a JPEG, via PIL `Image`. We did this first though, so let's go with it :)"
   ]
  },
  {
   "cell_type": "code",
   "execution_count": 85,
   "metadata": {},
   "outputs": [],
   "source": [
    "output_dir='/home/matt/Downloads/seals/out_neg'\n",
    "for i, (x, y) in enumerate(negs):\n",
    "    out = make_tile(x, y, fname, output_dir, output_stem=i)\n",
    "    # print(out)"
   ]
  },
  {
   "cell_type": "code",
   "execution_count": null,
   "metadata": {},
   "outputs": [],
   "source": []
  }
 ],
 "metadata": {
  "kernelspec": {
   "display_name": "py36",
   "language": "python",
   "name": "py36"
  },
  "language_info": {
   "codemirror_mode": {
    "name": "ipython",
    "version": 3
   },
   "file_extension": ".py",
   "mimetype": "text/x-python",
   "name": "python",
   "nbconvert_exporter": "python",
   "pygments_lexer": "ipython3",
   "version": "3.6.4"
  }
 },
 "nbformat": 4,
 "nbformat_minor": 2
}
