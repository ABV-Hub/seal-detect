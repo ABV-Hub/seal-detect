{
 "cells": [
  {
   "cell_type": "markdown",
   "metadata": {},
   "source": [
    "# Tiling seals (not ceiling tiles)\n",
    "\n",
    "Given a massive TIFF, extract tiles around some specific (x, y) locations. These are seals.\n",
    "\n",
    "Also extract some tiles that are not close to those (x, y) locations, and are also not too white (mask zone). These are not seals."
   ]
  },
  {
   "cell_type": "code",
   "execution_count": 1,
   "metadata": {},
   "outputs": [],
   "source": [
    "import os\n",
    "import struct\n",
    "\n",
    "import numpy as np\n",
    "import pandas as pd\n",
    "import scipy.spatial\n",
    "\n",
    "%matplotlib inline\n",
    "import matplotlib.pyplot as plt"
   ]
  },
  {
   "cell_type": "markdown",
   "metadata": {},
   "source": [
    "Install gdal with `conda install -c conda-forge gdal`"
   ]
  },
  {
   "cell_type": "code",
   "execution_count": 2,
   "metadata": {},
   "outputs": [],
   "source": [
    "import gdal"
   ]
  },
  {
   "cell_type": "markdown",
   "metadata": {},
   "source": [
    "## Dataframe\n",
    "\n",
    "We'll just read one image for now."
   ]
  },
  {
   "cell_type": "code",
   "execution_count": 68,
   "metadata": {},
   "outputs": [],
   "source": [
    "xls = '/home/matt/Downloads/seals/LingaHolm_SampleFiles_20180906/Linga Holm_ORKlh_2016_3&4_20180906.xlsx'\n",
    "df = pd.read_excel(xls, sheet_name=1)"
   ]
  },
  {
   "cell_type": "code",
   "execution_count": 69,
   "metadata": {},
   "outputs": [
    {
     "data": {
      "text/plain": [
       "array(['StitchMICE_ORKlh16_3_1104_CP_FINAL.tif',\n",
       "       'StitchMICE_ORKlh16_4_1117_CP_FINAL.tif'], dtype=object)"
      ]
     },
     "execution_count": 69,
     "metadata": {},
     "output_type": "execute_result"
    }
   ],
   "source": [
    "df.image_file.unique()"
   ]
  },
  {
   "cell_type": "code",
   "execution_count": 70,
   "metadata": {},
   "outputs": [],
   "source": [
    "input_fname = df.image_file.unique()[1]\n",
    "df = df[df.image_file == input_fname]"
   ]
  },
  {
   "cell_type": "code",
   "execution_count": 71,
   "metadata": {},
   "outputs": [],
   "source": [
    "offset = df.iloc[0].name"
   ]
  },
  {
   "cell_type": "code",
   "execution_count": 72,
   "metadata": {},
   "outputs": [
    {
     "data": {
      "text/html": [
       "<div>\n",
       "<style scoped>\n",
       "    .dataframe tbody tr th:only-of-type {\n",
       "        vertical-align: middle;\n",
       "    }\n",
       "\n",
       "    .dataframe tbody tr th {\n",
       "        vertical-align: top;\n",
       "    }\n",
       "\n",
       "    .dataframe thead th {\n",
       "        text-align: right;\n",
       "    }\n",
       "</style>\n",
       "<table border=\"1\" class=\"dataframe\">\n",
       "  <thead>\n",
       "    <tr style=\"text-align: right;\">\n",
       "      <th></th>\n",
       "      <th>image_file</th>\n",
       "      <th>class</th>\n",
       "      <th>x</th>\n",
       "      <th>y</th>\n",
       "      <th>date_counted</th>\n",
       "    </tr>\n",
       "  </thead>\n",
       "  <tbody>\n",
       "    <tr>\n",
       "      <th>3041</th>\n",
       "      <td>StitchMICE_ORKlh16_4_1117_CP_FINAL.tif</td>\n",
       "      <td>whitecoat</td>\n",
       "      <td>35994.974282</td>\n",
       "      <td>58410.725029</td>\n",
       "      <td>2018-05-28</td>\n",
       "    </tr>\n",
       "    <tr>\n",
       "      <th>3042</th>\n",
       "      <td>StitchMICE_ORKlh16_4_1117_CP_FINAL.tif</td>\n",
       "      <td>whitecoat</td>\n",
       "      <td>36698.974282</td>\n",
       "      <td>58376.725029</td>\n",
       "      <td>2018-05-28</td>\n",
       "    </tr>\n",
       "    <tr>\n",
       "      <th>3043</th>\n",
       "      <td>StitchMICE_ORKlh16_4_1117_CP_FINAL.tif</td>\n",
       "      <td>whitecoat</td>\n",
       "      <td>36676.974282</td>\n",
       "      <td>58398.725029</td>\n",
       "      <td>2018-05-28</td>\n",
       "    </tr>\n",
       "    <tr>\n",
       "      <th>3044</th>\n",
       "      <td>StitchMICE_ORKlh16_4_1117_CP_FINAL.tif</td>\n",
       "      <td>whitecoat</td>\n",
       "      <td>37321.374282</td>\n",
       "      <td>57937.725029</td>\n",
       "      <td>2018-05-28</td>\n",
       "    </tr>\n",
       "    <tr>\n",
       "      <th>3045</th>\n",
       "      <td>StitchMICE_ORKlh16_4_1117_CP_FINAL.tif</td>\n",
       "      <td>whitecoat</td>\n",
       "      <td>38404.574282</td>\n",
       "      <td>57051.325029</td>\n",
       "      <td>2018-05-28</td>\n",
       "    </tr>\n",
       "  </tbody>\n",
       "</table>\n",
       "</div>"
      ],
      "text/plain": [
       "                                  image_file      class             x  \\\n",
       "3041  StitchMICE_ORKlh16_4_1117_CP_FINAL.tif  whitecoat  35994.974282   \n",
       "3042  StitchMICE_ORKlh16_4_1117_CP_FINAL.tif  whitecoat  36698.974282   \n",
       "3043  StitchMICE_ORKlh16_4_1117_CP_FINAL.tif  whitecoat  36676.974282   \n",
       "3044  StitchMICE_ORKlh16_4_1117_CP_FINAL.tif  whitecoat  37321.374282   \n",
       "3045  StitchMICE_ORKlh16_4_1117_CP_FINAL.tif  whitecoat  38404.574282   \n",
       "\n",
       "                 y date_counted  \n",
       "3041  58410.725029   2018-05-28  \n",
       "3042  58376.725029   2018-05-28  \n",
       "3043  58398.725029   2018-05-28  \n",
       "3044  57937.725029   2018-05-28  \n",
       "3045  57051.325029   2018-05-28  "
      ]
     },
     "execution_count": 72,
     "metadata": {},
     "output_type": "execute_result"
    }
   ],
   "source": [
    "df.head()"
   ]
  },
  {
   "cell_type": "code",
   "execution_count": 73,
   "metadata": {},
   "outputs": [
    {
     "data": {
      "text/plain": [
       "array(['whitecoat', 'moulted', 'dead', 'double'], dtype=object)"
      ]
     },
     "execution_count": 73,
     "metadata": {},
     "output_type": "execute_result"
    }
   ],
   "source": [
    "df['class'].unique()"
   ]
  },
  {
   "cell_type": "code",
   "execution_count": 74,
   "metadata": {},
   "outputs": [
    {
     "data": {
      "text/html": [
       "<div>\n",
       "<style scoped>\n",
       "    .dataframe tbody tr th:only-of-type {\n",
       "        vertical-align: middle;\n",
       "    }\n",
       "\n",
       "    .dataframe tbody tr th {\n",
       "        vertical-align: top;\n",
       "    }\n",
       "\n",
       "    .dataframe thead th {\n",
       "        text-align: right;\n",
       "    }\n",
       "</style>\n",
       "<table border=\"1\" class=\"dataframe\">\n",
       "  <thead>\n",
       "    <tr style=\"text-align: right;\">\n",
       "      <th></th>\n",
       "      <th>x</th>\n",
       "      <th>y</th>\n",
       "    </tr>\n",
       "  </thead>\n",
       "  <tbody>\n",
       "    <tr>\n",
       "      <th>count</th>\n",
       "      <td>3127.000000</td>\n",
       "      <td>3127.000000</td>\n",
       "    </tr>\n",
       "    <tr>\n",
       "      <th>mean</th>\n",
       "      <td>27056.283269</td>\n",
       "      <td>25308.597334</td>\n",
       "    </tr>\n",
       "    <tr>\n",
       "      <th>std</th>\n",
       "      <td>11586.787093</td>\n",
       "      <td>13363.805393</td>\n",
       "    </tr>\n",
       "    <tr>\n",
       "      <th>min</th>\n",
       "      <td>1026.174282</td>\n",
       "      <td>468.225029</td>\n",
       "    </tr>\n",
       "    <tr>\n",
       "      <th>25%</th>\n",
       "      <td>18870.174282</td>\n",
       "      <td>15574.625029</td>\n",
       "    </tr>\n",
       "    <tr>\n",
       "      <th>50%</th>\n",
       "      <td>29902.374282</td>\n",
       "      <td>24776.625029</td>\n",
       "    </tr>\n",
       "    <tr>\n",
       "      <th>75%</th>\n",
       "      <td>36478.174282</td>\n",
       "      <td>32634.525029</td>\n",
       "    </tr>\n",
       "    <tr>\n",
       "      <th>max</th>\n",
       "      <td>44740.374282</td>\n",
       "      <td>58526.725029</td>\n",
       "    </tr>\n",
       "  </tbody>\n",
       "</table>\n",
       "</div>"
      ],
      "text/plain": [
       "                  x             y\n",
       "count   3127.000000   3127.000000\n",
       "mean   27056.283269  25308.597334\n",
       "std    11586.787093  13363.805393\n",
       "min     1026.174282    468.225029\n",
       "25%    18870.174282  15574.625029\n",
       "50%    29902.374282  24776.625029\n",
       "75%    36478.174282  32634.525029\n",
       "max    44740.374282  58526.725029"
      ]
     },
     "execution_count": 74,
     "metadata": {},
     "output_type": "execute_result"
    }
   ],
   "source": [
    "df.describe()"
   ]
  },
  {
   "cell_type": "code",
   "execution_count": 75,
   "metadata": {},
   "outputs": [],
   "source": [
    "with open(f'/home/matt/Downloads/seals/{input_fname[:-4]}_classes.txt', 'w') as f:\n",
    "    for c in df['class']:\n",
    "        f.write(c + '\\n')"
   ]
  },
  {
   "cell_type": "markdown",
   "metadata": {},
   "source": [
    "## Make +ve image tiles\n",
    "\n",
    "We can't read these images (easily anyway) into a PIL image or NumPy array. So we'll use GDAL to make the subiages, because it can work out of core (i.e. without reading the image into memory)."
   ]
  },
  {
   "cell_type": "code",
   "execution_count": 47,
   "metadata": {},
   "outputs": [],
   "source": [
    "input_dir = '/home/matt/Downloads/seals/LingaHolm_SampleFiles_20180906'\n",
    "\n",
    "output_dir = '/home/matt/Downloads/seals/out_pos'"
   ]
  },
  {
   "cell_type": "code",
   "execution_count": 48,
   "metadata": {},
   "outputs": [],
   "source": [
    "fname = os.path.join(input_dir, input_fname)"
   ]
  },
  {
   "cell_type": "code",
   "execution_count": 49,
   "metadata": {},
   "outputs": [],
   "source": [
    "ds = gdal.Open(fname)\n",
    "band = ds.GetRasterBand(1)\n",
    "x_size = band.XSize\n",
    "y_size = band.YSize"
   ]
  },
  {
   "cell_type": "code",
   "execution_count": 50,
   "metadata": {},
   "outputs": [],
   "source": [
    "# Use globals for now. A bit lazy...\n",
    "X_TILE_SIZE = 80\n",
    "Y_TILE_SIZE = 80"
   ]
  },
  {
   "cell_type": "markdown",
   "metadata": {},
   "source": [
    "Define a function that, when applied to all the rows in a DataFrame, will use the x and y values to extract subimages. Note that the function returns None, and has the side-effect of running a GDAL command on the input file. "
   ]
  },
  {
   "cell_type": "code",
   "execution_count": 51,
   "metadata": {},
   "outputs": [],
   "source": [
    "def make_tile(x, y, fname, output_dir, output_stem):\n",
    "    \"\"\"\n",
    "    To be used by df.apply(). Uses globals (should probably curry instead.)\n",
    "    \"\"\"\n",
    "    # Transform to image coordinates.\n",
    "    x, y = x - X_TILE_SIZE/2, y_size - y - Y_TILE_SIZE/2\n",
    "    \n",
    "    # Form output file name.\n",
    "    outfile = os.path.join(output_dir, f'{output_stem}.tif')\n",
    "    \n",
    "    # Do operation and save file.\n",
    "    com_string = f\"gdal_translate -of GTIFF -srcwin {x}, {y}, {X_TILE_SIZE}, {Y_TILE_SIZE} {fname} {outfile}\"\n",
    "    os.system(com_string)\n",
    "    \n",
    "    # No need to return anything but we can send back filename.\n",
    "    return outfile"
   ]
  },
  {
   "cell_type": "code",
   "execution_count": 52,
   "metadata": {},
   "outputs": [],
   "source": [
    "def mapper(row):\n",
    "    return make_tile(row.x, row.y, fname, output_dir, row.name)"
   ]
  },
  {
   "cell_type": "markdown",
   "metadata": {},
   "source": [
    "Uncomment the next cell to perform the tiling. Note: this part takes a few minutes and creates about 6000 files."
   ]
  },
  {
   "cell_type": "code",
   "execution_count": 16,
   "metadata": {},
   "outputs": [],
   "source": [
    "# df.apply(mapper, axis=1)"
   ]
  },
  {
   "cell_type": "markdown",
   "metadata": {},
   "source": [
    "### TODO\n",
    "\n",
    "- Make the images into JPEGs.\n",
    "- Make the images monochrome (?).\n",
    "- Rotate and/or flip the images.\n",
    "- Compute some new attributes of the images."
   ]
  },
  {
   "cell_type": "markdown",
   "metadata": {},
   "source": [
    "## Make -ve (non-seal) tiles\n",
    "\n",
    "Strategy: \n",
    "\n",
    "1. Select a point a random.\n",
    "1. If the point is too close to a known seal, reject it.\n",
    "1. If the point contains too many white pixels, reject it.\n",
    "1. Continue until we have as many points as we want (e.g. 8000).\n",
    "\n",
    "We'll work on the `band` object directly this time, because we need to inspect the pixels of each selected point."
   ]
  },
  {
   "cell_type": "markdown",
   "metadata": {},
   "source": [
    "Let's try extracting a single tile:"
   ]
  },
  {
   "cell_type": "code",
   "execution_count": 116,
   "metadata": {},
   "outputs": [],
   "source": [
    "scan = band.ReadRaster(34990, 21010, 80, 80, buf_type=gdal.GDT_Float32)\n",
    "data = struct.unpack('f' * 80*80, scan)"
   ]
  },
  {
   "cell_type": "code",
   "execution_count": 117,
   "metadata": {},
   "outputs": [],
   "source": [
    "data = np.array(data).reshape(80, 80)"
   ]
  },
  {
   "cell_type": "code",
   "execution_count": 120,
   "metadata": {},
   "outputs": [
    {
     "data": {
      "text/plain": [
       "<matplotlib.image.AxesImage at 0x7f8f243b7da0>"
      ]
     },
     "execution_count": 120,
     "metadata": {},
     "output_type": "execute_result"
    },
    {
     "data": {
      "image/png": "[encoded data removed]",
      "text/plain": [
       "<Figure size 432x288 with 1 Axes>"
      ]
     },
     "metadata": {},
     "output_type": "display_data"
    }
   ],
   "source": [
    "plt.imshow(data, cmap='gray')"
   ]
  },
  {
   "cell_type": "code",
   "execution_count": 121,
   "metadata": {},
   "outputs": [
    {
     "data": {
      "text/plain": [
       "255.0"
      ]
     },
     "execution_count": 121,
     "metadata": {},
     "output_type": "execute_result"
    }
   ],
   "source": [
    "np.max(data)"
   ]
  },
  {
   "cell_type": "markdown",
   "metadata": {},
   "source": [
    "Compare with some of the mask:"
   ]
  },
  {
   "cell_type": "code",
   "execution_count": 124,
   "metadata": {},
   "outputs": [
    {
     "data": {
      "text/plain": [
       "<matplotlib.colorbar.Colorbar at 0x7f8f23dc9940>"
      ]
     },
     "execution_count": 124,
     "metadata": {},
     "output_type": "execute_result"
    },
    {
     "data": {
      "image/png": "[encoded data removed]",
      "text/plain": [
       "<Figure size 432x288 with 2 Axes>"
      ]
     },
     "metadata": {},
     "output_type": "display_data"
    }
   ],
   "source": [
    "scan = band.ReadRaster(2000, 2000, 80, 80, buf_type=gdal.GDT_Float32)\n",
    "data = struct.unpack('f' * 80*80, scan)\n",
    "data = np.array(data).reshape(80, 80)\n",
    "im = plt.imshow(data, cmap='gray')\n",
    "plt.colorbar(im)"
   ]
  },
  {
   "cell_type": "code",
   "execution_count": 125,
   "metadata": {},
   "outputs": [
    {
     "data": {
      "text/plain": [
       "array([[255., 255., 255., ..., 255., 255., 255.],\n",
       "       [255., 255., 255., ..., 255., 255., 255.],\n",
       "       [255., 255., 255., ..., 255., 255., 255.],\n",
       "       ...,\n",
       "       [255., 255., 255., ..., 255., 255., 255.],\n",
       "       [255., 255., 255., ..., 255., 255., 255.],\n",
       "       [255., 255., 255., ..., 255., 255., 255.]])"
      ]
     },
     "execution_count": 125,
     "metadata": {},
     "output_type": "execute_result"
    }
   ],
   "source": [
    "data"
   ]
  },
  {
   "cell_type": "code",
   "execution_count": 126,
   "metadata": {},
   "outputs": [
    {
     "data": {
      "text/plain": [
       "1.0"
      ]
     },
     "execution_count": 126,
     "metadata": {},
     "output_type": "execute_result"
    }
   ],
   "source": [
    "data[data > 250].size / data.size"
   ]
  },
  {
   "cell_type": "markdown",
   "metadata": {},
   "source": [
    "We'll implement the alogirithm described above: pick random points, check that they aren't too close to known seals, check don't have too many white pixels, then store them if they seem OK."
   ]
  },
  {
   "cell_type": "code",
   "execution_count": 24,
   "metadata": {},
   "outputs": [],
   "source": [
    "# Make the k-d tree.\n",
    "tree = scipy.spatial.KDTree(np.array([df.x, df.y]).T)\n",
    "\n",
    "negs = []\n",
    "while len(negs) < 7000:\n",
    "\n",
    "    # Make random coordinates.\n",
    "    x, y = np.random.randint(0, x_size), np.random.randint(0, y_size)\n",
    "    x_, y_ = x - X_TILE_SIZE/2, y_size - y - Y_TILE_SIZE/2\n",
    "    \n",
    "    # Find distance to nearest, reject if too close.\n",
    "    dist, _ =  tree.query([x, y])\n",
    "    if dist < np.sqrt(2*80**2):\n",
    "        continue\n",
    "    \n",
    "    # Read the data for this tile.\n",
    "    scan = band.ReadRaster(x_, y_, X_TILE_SIZE, Y_TILE_SIZE, buf_type=gdal.GDT_Float32)\n",
    "    try:\n",
    "        # Sometimes this fails, not sure why. Maybe at the edges?\n",
    "        data = struct.unpack('f' * X_TILE_SIZE * Y_TILE_SIZE, scan)\n",
    "    except:\n",
    "        continue\n",
    "\n",
    "    # Make an array of the data. These are 8-bit ints. (Why?)\n",
    "    a = np.array(data).reshape(X_TILE_SIZE, Y_TILE_SIZE)\n",
    "    \n",
    "    # If more than 5% of image is ~white, reject.\n",
    "    if a[a > 250].size / a.size > 0.05:\n",
    "        continue\n",
    "    \n",
    "    # If the tile survived, add it.\n",
    "    negs.append((x, y))"
   ]
  },
  {
   "cell_type": "markdown",
   "metadata": {},
   "source": [
    "Instead of doing this next thing, we could just save the array `a`, above, as a JPEG, via PIL `Image`. We did this first though, so let's go with it :)"
   ]
  },
  {
   "cell_type": "code",
   "execution_count": 54,
   "metadata": {},
   "outputs": [],
   "source": [
    "dirname, _ = input_fname.split('.')"
   ]
  },
  {
   "cell_type": "code",
   "execution_count": 55,
   "metadata": {},
   "outputs": [
    {
     "data": {
      "text/plain": [
       "'StitchMICE_ORKlh16_4_1117_CP_FINAL'"
      ]
     },
     "execution_count": 55,
     "metadata": {},
     "output_type": "execute_result"
    }
   ],
   "source": [
    "dirname"
   ]
  },
  {
   "cell_type": "code",
   "execution_count": 59,
   "metadata": {},
   "outputs": [],
   "source": [
    "output_dir = f'/home/matt/Downloads/seals/{dirname}_tiles/neg'\n",
    "for i, (x, y) in enumerate(negs):\n",
    "    out = make_tile(x, y, fname, output_dir, output_stem=offset + i)\n",
    "    # print(out)"
   ]
  },
  {
   "cell_type": "code",
   "execution_count": null,
   "metadata": {},
   "outputs": [],
   "source": []
  }
 ],
 "metadata": {
  "kernelspec": {
   "display_name": "py36",
   "language": "python",
   "name": "py36"
  },
  "language_info": {
   "codemirror_mode": {
    "name": "ipython",
    "version": 3
   },
   "file_extension": ".py",
   "mimetype": "text/x-python",
   "name": "python",
   "nbconvert_exporter": "python",
   "pygments_lexer": "ipython3",
   "version": "3.6.4"
  }
 },
 "nbformat": 4,
 "nbformat_minor": 2
}
